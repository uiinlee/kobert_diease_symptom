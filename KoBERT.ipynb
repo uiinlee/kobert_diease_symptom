{
  "nbformat": 4,
  "nbformat_minor": 0,
  "metadata": {
    "colab": {
      "provenance": []
    },
    "kernelspec": {
      "name": "python3",
      "display_name": "Python 3"
    },
    "language_info": {
      "name": "python"
    }
  },
  "cells": [
    {
      "cell_type": "code",
      "source": [
        "!pip install transformers\n",
        "!pip install torch\n",
        "!pip install accelerate -U"
      ],
      "metadata": {
        "id": "MpSPnSXpInvx"
      },
      "execution_count": null,
      "outputs": []
    },
    {
      "cell_type": "code",
      "source": [
        "import os\n",
        "import re"
      ],
      "metadata": {
        "id": "aLFS525qtAOm"
      },
      "execution_count": null,
      "outputs": []
    },
    {
      "cell_type": "code",
      "execution_count": null,
      "metadata": {
        "colab": {
          "base_uri": "https://localhost:8080/"
        },
        "id": "Bu4DREVJY0ky",
        "outputId": "bb2ff2ad-49b5-49af-e45e-e0dc1e98e274"
      },
      "outputs": [
        {
          "output_type": "stream",
          "name": "stdout",
          "text": [
            "Drive already mounted at /content/drive; to attempt to forcibly remount, call drive.mount(\"/content/drive\", force_remount=True).\n"
          ]
        }
      ],
      "source": [
        "from google.colab import drive\n",
        "drive.mount('/content/drive')"
      ]
    },
    {
      "cell_type": "code",
      "source": [
        "folder_path = \"/content/drive/MyDrive/newlabelingdata/HA_0001\""
      ],
      "metadata": {
        "id": "vV25z-UAstu4"
      },
      "execution_count": null,
      "outputs": []
    },
    {
      "cell_type": "code",
      "source": [
        "\n",
        "def label_text_files_in_folder(folder_path, symptoms):\n",
        "    labeled_data = []\n",
        "\n",
        "    for file_name in os.listdir(folder_path):\n",
        "        if file_name.endswith('.txt'):\n",
        "            file_path = os.path.join(folder_path, file_name)\n",
        "\n",
        "            with open(file_path, 'r', encoding='utf-8') as f:\n",
        "                lines = f.readlines()\n",
        "\n",
        "                for line in lines:\n",
        "                    entities = []\n",
        "\n",
        "                    for symptom in symptoms:\n",
        "                        for match in re.finditer(symptom, line):\n",
        "                            start, end = match.span()\n",
        "                            entities.append((start, end, \"증상\"))\n",
        "\n",
        "                    labeled_data.append((line.strip(), {\"entities\": entities}))\n",
        "\n",
        "    return labeled_data\n",
        "\n",
        " # 약물과 증상의 예시 사전\n",
        "symptoms = [\"가래\", \"간염\", \"결핵\", \"감기\", \"고혈압\", \"구토\", \"기력\", \"기침\", \"당뇨\", \"독감\", \"두통\", \"몸살\", \"바이러스\", \"발기\", \"발열\", \"피곤함\", \"붓기\", \"열\", \"피로\", \"한기\", \"인후통\", \"복부 팽만감\", \"부종\", \"불면\", \"설사\", \"식욕\", \"소화\", \"심계항진\", \"불규칙\", \"유전병\", \"암\", \"항암\", \"유전성 질환\", \"사고\", \"알레르기\", \"피\", \"통증\", \"토\", \"인플루엔자\", \"흡연\", \"혈뇨\", \"호흡 곤란\", \"종양\", \"피토\", \"혈당\", \"혈변\", \"체중 변화\", \"편도선\", \"변비\", \"현기증\", \"혈압\", \"흉통\", \"빈혈\", \"역류\", \"담낭 절제술\", \"충격\", \"벌\", \"화상\", \"뺑소니\", \"타격\", \"무기력\", \"식은땀\", \"이물질\", \"미친개\", \"마비\", \"가려움증\", \"고열\", \"얼룩\", \"만성\", \"폐쇄성\", \"폐질환\", \"폐기종\", \"위염\", \"물 토\", \"상처\", \"락스\", \"잔뇨\", \"간수치\", \"코피\", \"정맥류\", \"입맛\", \"기흉\", \"묽은 변\", \"대상포진\", \"감전\", \"수포\", \"삐끗\", \"열감\", \"파열\", \"뱀\", \"맹장염\", \"코로나\", \"더부룩\", \"출혈\", \"황달\", \"송곳\", \"우울\", \"여드름\", \"덩어리\", \"섬광\", \"안색\", \"무호흡증\", \"수면\", \"음영\", \"감염\", \"건조\", \"미열\", \"똥침\", \"볼록\", \"트림\", \"파상풍\", \"저릿\", \"스트레스\", \"진물\", \"절뚝\", \"장애\", \"착색\", \"물집\", \"자궁근종\", \"경련\", \"요도\", \"통풍\"]\n",
        "\n",
        "# 텍스트 파일 경로 (이 경로는 예시이므로 실제 경로로 변경해야 함)\n",
        "folder_path = \"/content/drive/MyDrive/newlabelingdata/HA_0001\"\n",
        "\n",
        "labeled_data = label_text_files_in_folder(folder_path, symptoms)\n",
        "print(labeled_data)"
      ],
      "metadata": {
        "colab": {
          "base_uri": "https://localhost:8080/"
        },
        "id": "PBTE4fUb_Xyc",
        "outputId": "e9a961df-2990-4d52-991a-0f87fc17b19e"
      },
      "execution_count": null,
      "outputs": [
        {
          "output_type": "stream",
          "name": "stdout",
          "text": [
            "[('술 드시고 배가 아프셨나요', {'entities': []}), ('음주는 얼마나 자주 하시죠', {'entities': []}), ('부종이 있어요', {'entities': [(0, 2, '증상')]}), ('결핵 대비로 예방 주사 맞으셨어요', {'entities': [(0, 2, '증상')]}), ('어떤 증상이 견디기 힘들던가요', {'entities': []}), ('최근에 급격하게 체중이 변화됐다고 느낀 적 있었나요', {'entities': []}), ('식사는 평소처럼 하세요', {'entities': []}), ('요즘 소변볼 때 어려운 점이 없으세요', {'entities': []}), ('고혈압으로 따로 챙겨 드시는 약 있으세요', {'entities': [(0, 3, '증상'), (1, 3, '증상')]}), ('평소에 변비가 있으신가요', {'entities': [(4, 6, '증상')]}), ('가슴 통증이 있으셨는지 알려주세요', {'entities': [(3, 5, '증상')]}), ('음주는 혹시 하시나요', {'entities': []}), ('붓기가 제일 심한 시간이 언제인가요', {'entities': [(0, 2, '증상')]}), ('식욕감퇴가 있나요', {'entities': [(0, 2, '증상')]}), ('부종 증상이 있나요', {'entities': [(0, 2, '증상')]}), ('술을 얼마나 자주 마시나요', {'entities': []}), ('지속적으로 배가 아픈가요', {'entities': []}), ('이외에 알레르기가 올라오는 것이 있나요', {'entities': [(4, 8, '증상')]}), ('알레르기를 처음 발견한 것은 언제인가요', {'entities': [(0, 4, '증상')]}), ('바이러스로 인한 인후통 인 건가요', {'entities': [(0, 4, '증상'), (9, 12, '증상')]}), ('몸이 부어오르나요', {'entities': []}), ('가장 우려되는 증상이 무엇인가요', {'entities': []}), ('아팠다 말았다 하나요 아니면 계속 아픈가요', {'entities': []}), ('술을 얼마나 자주 드시나요', {'entities': []}), ('아픈 부위는 어디세요', {'entities': []}), ('고혈압 때문에 복용 중인 약이 있으신가요', {'entities': [(0, 3, '증상'), (1, 3, '증상')]}), ('여전히 가래가 나오나요', {'entities': [(4, 6, '증상')]}), ('당 수치는 괜찮죠', {'entities': []}), ('통증 발현 빈도가 대략 얼마쯤인가요', {'entities': [(0, 2, '증상')]}), ('과거 아픈 경험이 있으신가요', {'entities': []}), ('간염으로 처음 병원 온 날이 언제인가요', {'entities': [(0, 2, '증상')]}), ('음식 알레르기 있는지 알고 싶어요', {'entities': [(3, 7, '증상')]}), ('불면증 증상이 있나요', {'entities': [(0, 2, '증상')]}), ('결핵약은 뭐로 드시나요', {'entities': [(0, 2, '증상')]}), ('술도 하시나요', {'entities': []}), ('통증 부위가 머리 쪽 맞나요', {'entities': [(0, 2, '증상')]}), ('두통이 심할 때도 있나요', {'entities': [(0, 2, '증상')]}), ('몸이 좀 으슬으슬한가요', {'entities': []}), ('통증이 가시질 않나요', {'entities': [(0, 2, '증상')]}), ('아파서 괴롭거나 하지는 않으세요', {'entities': []}), ('이렇게 통증 느낀 건 얼마나 된 거예요', {'entities': [(4, 6, '증상')]}), ('알레르기 반응이 언제 보이나요', {'entities': [(0, 4, '증상')]}), ('혈뇨 보셨나요', {'entities': [(0, 2, '증상')]}), ('어지러우면 한동안 쉬어야 하나요', {'entities': []}), ('고혈압 여부를 말씀해주시겠어요', {'entities': [(0, 3, '증상'), (1, 3, '증상')]}), ('배가 팽팽한 느낌이 있나요', {'entities': []}), ('크게 다쳐서 입원한 적이 있나요', {'entities': []}), ('몸이 뜨거운 느낌이 있으신가요', {'entities': []}), ('불면으로 어려움을 겪고 계신가요', {'entities': [(0, 2, '증상')]}), ('최근에 체중에 변화가 있나요', {'entities': []}), ('혈당 체크를 매일 하는 편인가요', {'entities': [(0, 2, '증상')]}), ('고혈압약 먹고 예전보다 증상이 호전된 것 같나요', {'entities': [(0, 3, '증상'), (1, 3, '증상')]}), ('결핵 주사는 이미 맞으셨나요', {'entities': [(0, 2, '증상')]}), ('아픈 곳이 얼마나 아프세요', {'entities': []}), ('고혈압은 언제부터 발생하셨나요', {'entities': [(0, 3, '증상'), (1, 3, '증상')]}), ('두통 때문에 잠들기 어렵지는 않나요', {'entities': [(0, 2, '증상')]}), ('자주 혈뇨 보시나요', {'entities': [(3, 5, '증상')]}), ('일년 동안 해외에 가신 일이 있나요', {'entities': []}), ('흡연량이 어느 정도인가요', {'entities': [(0, 2, '증상')]}), ('몸에 붓기는 잘 안 빠지나요', {'entities': [(3, 5, '증상')]}), ('언제 숨쉬기 힘들어요', {'entities': []}), ('하루에 담배 몇 갑 정도 펴요', {'entities': []}), ('머리에 통증을 느낍니까', {'entities': [(4, 6, '증상')]}), ('당뇨 진단 받으신적 있으신가요', {'entities': [(0, 2, '증상')]}), ('특정 음식에 알레르기가 있습니까', {'entities': [(7, 11, '증상')]}), ('피가 섞인 소변을 보고 있으세요', {'entities': [(0, 1, '증상')]}), ('혈압이 백삼십 이상이신가요', {'entities': [(0, 2, '증상')]}), ('유전성 질환 때문에 치료받고 있는 가족이 있나요', {'entities': [(0, 6, '증상')]}), ('통증이 얼마 만에 오나요', {'entities': [(0, 2, '증상')]}), ('어떠한 상황에 알레르기가 일어나시나요', {'entities': [(8, 12, '증상')]}), ('과거에 다치거나 사고를 당한 적이 있나요', {'entities': [(9, 11, '증상')]}), ('가족 중 유전성 질환을 경험하신 분이 있으십니까', {'entities': [(5, 11, '증상')]}), ('알레르기 반응 보이는 음식이 있는지 알려주세요', {'entities': [(0, 4, '증상')]}), ('머리는 어때요', {'entities': []}), ('통증이 무엇을 할 때 오나요', {'entities': [(0, 2, '증상')]}), ('당뇨와 관련해서 처방받으신 약이 있으신가요', {'entities': [(0, 2, '증상')]}), ('결핵 백신주사는 벌써 맞으셨나요', {'entities': [(0, 2, '증상'), (9, 10, '증상')]}), ('명치 부근이 아프신가요', {'entities': []}), ('목 안이 아프다는 느낌을 받으셨나요', {'entities': []}), ('흡연은 얼마나 하셨죠', {'entities': [(0, 2, '증상')]}), ('숨 쉴 때 가슴이 아프거나 하진 않아요', {'entities': []}), ('복부 팽만감이 들지는 않으세요', {'entities': [(0, 6, '증상')]}), ('잔다고 하면 바로 잠에 빠지나요', {'entities': []}), ('평소 당 수치가 어느 정도신가요', {'entities': []}), ('호흡이 힘든 상황이 오나요', {'entities': []}), ('과거 수술 이력이 있는지 알려주세요', {'entities': []}), ('기타 다른 알레르기 질환 있으신가요', {'entities': [(6, 10, '증상')]}), ('최근에 살이 많이 빠진다든가 하나요', {'entities': []}), ('암 수치가 높으신가요', {'entities': [(0, 1, '증상')]}), ('통증이 얼마나 자주 오나요', {'entities': [(0, 2, '증상')]}), ('가족 중에 암 진단받은 식구가 있을까요', {'entities': [(6, 7, '증상')]}), ('혹시 처방받은 약이 있나요', {'entities': []}), ('오심이란 토할 것 같은 느낌을 말합니다 이런 증상이 있나요', {'entities': [(5, 6, '증상')]}), ('언제부터 당뇨 증세가 악화됐나요', {'entities': [(5, 7, '증상')]}), ('간염을 앓은 지 얼마나 되셨죠', {'entities': [(0, 2, '증상')]}), ('처방받으신 후 복용 중인 결핵약이 있나요', {'entities': [(14, 16, '증상')]}), ('평소에 변은 잘 보세요', {'entities': []}), ('지금 발기 부전으로 문제가 있나요', {'entities': [(3, 5, '증상')]}), ('몸에 열이 나는 게 느껴지세요', {'entities': [(3, 4, '증상')]}), ('통증이 오면 어느 정도 이어지나요', {'entities': [(0, 2, '증상')]}), ('평소에 식이 섬유 위주의 식단은 챙겨 드시나요', {'entities': []}), ('과거에 똑같은 증상이 있었나요', {'entities': []}), ('언제쯤 독감 주사 맞았나요', {'entities': [(4, 6, '증상')]}), ('과거에 간염 치료를 받은 적이 있으신가요', {'entities': [(4, 6, '증상')]}), ('몸과 마음이 피로하신가요', {'entities': [(7, 9, '증상'), (7, 8, '증상')]}), ('결핵약 복용하고 있으세요', {'entities': [(0, 2, '증상')]}), ('담배를 처음 핀 게 언제죠', {'entities': []}), ('한달에 한번씩 이렇게 통증이 있으신가요', {'entities': [(12, 14, '증상')]}), ('심장이 불규칙적으로 뛴다고 생각하시나요', {'entities': [(4, 7, '증상')]}), ('어떠한 이유로 입원을 하셨을까요', {'entities': []}), ('고혈압 기간이 어떻게 되세요', {'entities': [(0, 3, '증상'), (1, 3, '증상')]}), ('몸이 자주 피곤하신가요', {'entities': [(6, 7, '증상')]}), ('다른 심장 관련 질환은 없나요', {'entities': []}), ('가족력으로 암 있으신가요', {'entities': [(6, 7, '증상')]}), ('속이 자꾸만 안 좋으신가요', {'entities': []}), ('음식을 거의 못 드시나요', {'entities': []}), ('복부에 통증은 없으세요', {'entities': [(4, 6, '증상')]}), ('배가 벙벙한 느낌이라고요', {'entities': []}), ('요 근래 체중 변화가 있으세요', {'entities': [(5, 10, '증상')]}), ('지금까지 몇 번 피를 토했나요', {'entities': [(9, 10, '증상'), (12, 13, '증상')]}), ('알레르기 때문에 멀리해야 하는 것이 있나요', {'entities': [(0, 4, '증상')]}), ('부종 여부 알아보죠', {'entities': [(0, 2, '증상')]}), ('심계항진 증상을 설명해 주실래요', {'entities': [(0, 4, '증상')]}), ('호흡할 때 더 힘들거나 그러진 않으세요', {'entities': []}), ('처음 통증을 느낀건 언제인가요', {'entities': [(3, 5, '증상')]}), ('고혈압약도 복용 중인가요', {'entities': [(0, 3, '증상'), (1, 3, '증상')]}), ('간염 약물치료 중이신가요', {'entities': [(0, 2, '증상')]}), ('지금 몸살이신 건가요', {'entities': [(3, 5, '증상')]}), ('알레르기 때문에 고생한 지 얼마나 되었나요', {'entities': [(0, 4, '증상')]}), ('통증이 지속되는 부위가 어딘가요', {'entities': [(0, 2, '증상')]}), ('심장이 뛰는 게 심각하게 느껴질 때가 있나요', {'entities': []}), ('하루에 담배를 얼마나 태우세요', {'entities': []}), ('다른 병원에서 간염 진단을 받으셨나요', {'entities': [(8, 10, '증상')]}), ('두통이 오지 않았어요', {'entities': [(0, 2, '증상')]}), ('가슴이 벌렁거리시나요', {'entities': [(4, 5, '증상')]}), ('음주 횟수는 어떻게 되죠', {'entities': []}), ('어떻게 통증이 있어요', {'entities': [(4, 6, '증상')]}), ('설사는 몇 번 하셨나요', {'entities': [(0, 2, '증상')]}), ('원래도 변비가 있으신가요', {'entities': [(4, 6, '증상')]}), ('이거 말고 불편하신 부분 있나요', {'entities': []}), ('발기부전 증상이 언제부터 나타났나요', {'entities': [(0, 2, '증상')]}), ('암으로 드시는 약 있어요', {'entities': [(0, 1, '증상')]}), ('설사 맨날 하시나요', {'entities': [(0, 2, '증상')]}), ('자주 호흡곤란이 생기나요', {'entities': []}), ('통증이 한 달에 몇 번 정도 있나요', {'entities': [(0, 2, '증상')]}), ('발열 증상이 있었던 적이 있나요', {'entities': [(0, 2, '증상'), (1, 2, '증상')]}), ('최근 일년 동안 해외여행 다녀오신 적 있나요', {'entities': []}), ('담배는 언제부터 시작하셨어요', {'entities': []}), ('통증 지속 여부를 알려주세요', {'entities': [(0, 2, '증상')]}), ('환자분이 복용하고 계시는 약에 대한 정보가 필요합니다', {'entities': []}), ('최근 일 년 동안 해외여행을 다녀오셨나요', {'entities': []}), ('하루에 몇 끼 정도 식사하세요', {'entities': []}), ('호흡곤란 증상이 자주 나타나나요', {'entities': []}), ('감기 예방 주사는 맞았나요', {'entities': [(0, 2, '증상')]}), ('복부 팽만 증상이 있으신가요', {'entities': []}), ('현기증 때문에 어지럽나요', {'entities': [(0, 3, '증상')]}), ('해외에 나갔다 오신 적이 최근 일 년 동안 있었나요', {'entities': []}), ('진단은 언제 받았나요', {'entities': []}), ('부부 관계에 불만이 있으세요', {'entities': []}), ('최근 일 년 안에 출국하신 적 있으세요', {'entities': []}), ('십점을 가장 아픈 것이라고 가정하면 몇 점 정도로 아프신가요', {'entities': []}), ('술은 즐겨 하시는 편이신가요', {'entities': []}), ('암 판정받으신 적 있나요', {'entities': [(0, 1, '증상')]}), ('현재 담배는 피우시나요', {'entities': [(7, 8, '증상')]}), ('음식 알레르기가 있으실까요', {'entities': [(3, 7, '증상')]}), ('암 검사를 주기적으로 받고 있나요', {'entities': [(0, 1, '증상')]}), ('몸살 기운이 있는 것 같나요', {'entities': [(0, 2, '증상')]}), ('어떤 것에 알레르기가 있나요', {'entities': [(6, 10, '증상')]}), ('지금 가족 중에 암 치료받는 분 있어요', {'entities': [(9, 10, '증상')]}), ('당뇨 치료 이력은 아직 없으신 건가요', {'entities': [(0, 2, '증상')]}), ('항암 치료제를 복용 중이신가요', {'entities': [(1, 2, '증상'), (0, 2, '증상')]}), ('잠에 들기 전까지 어려움이 있나요', {'entities': []}), ('현재 고혈압 치료는 언제 시작하셨나요', {'entities': [(3, 6, '증상'), (4, 6, '증상')]}), ('복통은 없으십니까', {'entities': []}), ('당뇨 확인은 언제 하셨죠', {'entities': [(0, 2, '증상')]}), ('통증의 양상이 어떻지요', {'entities': [(0, 2, '증상')]}), ('혈뇨는 언제 처음 있었나요', {'entities': [(0, 2, '증상')]}), ('기침하면 피가 같이 나오는지 궁금하네요', {'entities': [(0, 2, '증상'), (5, 6, '증상')]}), ('최근 한 달 동안 체중 변화가 급격히 있었나요', {'entities': [(10, 15, '증상')]}), ('근래에 체중 증가가 있으신가요', {'entities': []}), ('아픈 곳이 어디인지 알려 주세요', {'entities': []}), ('몸이 뜨끈뜨끈해졌나요', {'entities': []}), ('수술 처음이세요', {'entities': []}), ('술을 언제 처음 드셨나요', {'entities': []}), ('목이 부어있는 느낌이에요', {'entities': []}), ('최근에 혈변을 보시나요', {'entities': [(4, 6, '증상')]}), ('술을 드시는 주기가 어떻게 되세요', {'entities': []}), ('가족에 고혈압 진단이 나오신 분이 있나요', {'entities': [(4, 7, '증상'), (5, 7, '증상')]}), ('가족 중에 유전병 치료를 위해 병원에 다니시는 분이 계신가요', {'entities': [(6, 9, '증상')]}), ('콕콕 찌른다거나 양상이 어떻게 되시나요', {'entities': []}), ('간염약은 어떤거 드셨나요', {'entities': [(0, 2, '증상')]}), ('지금은 무슨 약 드세요', {'entities': []}), ('고혈압약은 꾸준히 복용하시나요', {'entities': [(0, 3, '증상'), (1, 3, '증상')]}), ('힘이 없고 늘 피로한가요', {'entities': [(8, 10, '증상'), (8, 9, '증상')]}), ('혈압약이나 당뇨약같이 지속적으로 약을 복용해야 하는 병이 있나요', {'entities': [(6, 8, '증상'), (0, 2, '증상')]}), ('술자리에서 술은 몇 병까지 드시나요', {'entities': []}), ('통증이 멈췄다 다시 시작되나요', {'entities': [(0, 2, '증상')]}), ('당뇨 가족력 여부 알고 계신가요', {'entities': [(0, 2, '증상')]}), ('오줌에 피가 같이 나왔나요', {'entities': [(4, 5, '증상')]}), ('근래 일년 이내 해외여행을 다녀오신 적이 있나요', {'entities': []}), ('대변은 잘 보세요', {'entities': []}), ('결핵 치료는 언제부터 시작하셨어요', {'entities': [(0, 2, '증상')]}), ('독감 예방 주사는 언제 맞았을까요', {'entities': [(0, 2, '증상')]}), ('통증을 말로 어떻게 표현할 수 있나요', {'entities': [(0, 2, '증상')]}), ('간염은 언제 진단받으셨죠', {'entities': [(0, 2, '증상')]}), ('대변이 딱딱한가요', {'entities': []}), ('힘든 증상이 뭐예요', {'entities': []}), ('일 년 이내에 외국 다녀오신 적 있으시나요', {'entities': []}), ('올해 독감 예방 주사 맞으셨나요', {'entities': [(3, 5, '증상')]}), ('편하게 숨을 쉬기가 힘든가요', {'entities': []}), ('아득하고 어질할 때가 있었나요', {'entities': []}), ('설사를 보시고 나면 속은 좀 어떠세요', {'entities': [(0, 2, '증상')]}), ('체중의 변화가 있나요', {'entities': []}), ('어떤 종류의 약을 드시고 있나요', {'entities': []}), ('최근 일 년간 수술하신 적이 있으신가요', {'entities': []}), ('과거 병력 알고 싶어요', {'entities': []}), ('가족 중에 유전성 질환이신 분이 계신가요', {'entities': [(6, 12, '증상')]}), ('음식이 아닌 알레르기 원인이 있나요', {'entities': [(7, 11, '증상')]}), ('최근 몸무게에 변화는 없으세요', {'entities': []}), ('가족 중에 항암 치료 중이신 분이 있나요', {'entities': [(7, 8, '증상'), (6, 8, '증상')]}), ('잔뇨감이 느껴지나요', {'entities': [(0, 2, '증상')]}), ('식욕이 없으신가요', {'entities': [(0, 2, '증상')]}), ('어느 정도로 피곤하신가요', {'entities': [(7, 8, '증상')]}), ('당뇨병 걸리신 가족이 있나요', {'entities': [(0, 2, '증상')]}), ('잠들기 어렵죠', {'entities': []}), ('통증에 패턴이 있나요', {'entities': [(0, 2, '증상')]}), ('결핵약은 복용은 끝나셨나요', {'entities': [(0, 2, '증상')]}), ('통증이 언제 오는지 이유를 아나요', {'entities': [(0, 2, '증상')]}), ('고혈압 치료는 꾸준히 받고 계신가요', {'entities': [(0, 3, '증상'), (1, 3, '증상')]}), ('몸이 많이 부으셨나요', {'entities': []}), ('소변을 누실 때 소변 발이 어떠신 거 같아요', {'entities': []}), ('속이 좋지 않은 증상은 있으셨어요', {'entities': []}), ('체중이 좀 늘어났나요', {'entities': []}), ('피로가 회복이 안 되시나요', {'entities': [(0, 2, '증상'), (0, 1, '증상')]}), ('혈변을 보신 후 항문이 불편하진 않나요', {'entities': [(0, 2, '증상')]}), ('숨 쉬는 건 안 힘들어요', {'entities': []}), ('어떤 것에 알레르기가 일어나나요', {'entities': [(6, 10, '증상')]}), ('가족 중에서 고혈압이신 분 계시죠', {'entities': [(7, 10, '증상'), (8, 10, '증상')]}), ('접종 날짜 기억나시나요', {'entities': []}), ('소변을 보고 나면 시원한가요', {'entities': []}), ('수술받은 이력을 말씀해 주세요', {'entities': []}), ('요즘 먹고 싶은 게 없나요', {'entities': []}), ('입에서 피 맛이 나나요', {'entities': [(4, 5, '증상')]}), ('당뇨인지 언제 아신 거에요', {'entities': [(0, 2, '증상')]}), ('대변을 보기가 힘드세요', {'entities': []}), ('간염과 관련된 약물 드시는 것 있나요', {'entities': [(0, 2, '증상')]}), ('실례지만 하루에 흡연량 알려주실래요', {'entities': [(9, 11, '증상')]}), ('결핵 접종 맞았나요', {'entities': [(0, 2, '증상')]}), ('흡연한 적이 있으신가요', {'entities': [(0, 2, '증상')]}), ('독감 접종 후 집에만 계셨나요', {'entities': [(0, 2, '증상')]}), ('통증이 시작되면 몇 시간 정도 가나요', {'entities': [(0, 2, '증상')]}), ('통증은 언제 시작됐습니까', {'entities': [(0, 2, '증상')]}), ('어지러움이 갑자기 생겼나요', {'entities': []}), ('일주일 내내 통증이 있으셨나요', {'entities': [(7, 9, '증상')]}), ('지금 제일 염려되는 부분이 어딜까요', {'entities': []}), ('온몸이 다 부었나요', {'entities': []}), ('가래 색은 어떠세요', {'entities': [(0, 2, '증상')]}), ('흡연은 몇 살부터 시작하셨어요', {'entities': [(0, 2, '증상')]}), ('오래 앉아있어도 똥이 잘 안 나오나요', {'entities': []}), ('여기 말고 다른 부위 치료받은 적은 없으세요', {'entities': []}), ('소변을 시원하게 보고 싶은데 안 되나요', {'entities': []}), ('약물 알레르기 알고 계신 것 있어요', {'entities': [(3, 7, '증상')]}), ('발기부전약을 드신 적은 있나요', {'entities': [(0, 2, '증상')]}), ('소화가 잘 안 되는 느낌이 드나요', {'entities': [(0, 2, '증상')]}), ('술 드실 때 보통 얼마나 드세요', {'entities': []}), ('호흡이 많이 힘든가요', {'entities': []}), ('발열이 난 적이 있어요', {'entities': [(0, 2, '증상'), (1, 2, '증상')]}), ('소변에 피가 같이 나온 적이 있을까요', {'entities': [(4, 5, '증상')]}), ('하루 종일 아프신 건가요', {'entities': []}), ('잠에서 깨면 푹 잔 느낌이 있으신가요', {'entities': []}), ('결핵약은 어떤 거 드세요', {'entities': [(0, 2, '증상')]}), ('몸이 후끈거리나요', {'entities': []}), ('대변이 주르륵 나오나요', {'entities': []}), ('일일 평균 흡연량 얘기해 주세요', {'entities': [(6, 8, '증상')]}), ('통증이 언제부터 있으셨어요', {'entities': [(0, 2, '증상')]}), ('기침이 참기가 힘든가요', {'entities': [(0, 2, '증상')]}), ('고혈압과 관련하여 치료받고 있으신가요', {'entities': [(0, 3, '증상'), (1, 3, '증상')]}), ('혈당이 관리가 안 되기 시작한 게 얼마나 되었나요', {'entities': [(0, 2, '증상')]}), ('간염 치료 기간 알 수 있을까요', {'entities': [(0, 2, '증상')]}), ('아픈 신체 부위 말씀해주세요', {'entities': []}), ('가족 중에 당뇨이신 분 있어요', {'entities': [(6, 8, '증상')]}), ('아프신 부위가 어디예요', {'entities': []}), ('최근 일 년 동안 해외 가본 적이 있나요', {'entities': []}), ('부종이 있는 곳 좀 보여주실래요', {'entities': [(0, 2, '증상')]}), ('어떨 때 호흡곤란 증상이 있나요', {'entities': []}), ('체중 변화가 빈번한가요', {'entities': [(0, 5, '증상')]}), ('언제 숨 쉬기가 힘든가요', {'entities': []}), ('온몸이 기운이 빠진 듯하나요', {'entities': []}), ('대변이 시원하게 안나오시나요', {'entities': []}), ('증상이 언제쯤 시작됐는지 알려 주세요', {'entities': []}), ('평균적으로 주량이 어떻게 되세요', {'entities': []}), ('저번 달에 통증이 왔다가 오늘 다시 온 거예요', {'entities': [(6, 8, '증상')]}), ('알레르기 반응이 보이는 다른 원인이 있나요', {'entities': [(0, 4, '증상')]}), ('과거에 배가 아프신 적이 있으세요', {'entities': []}), ('술은 드시나요', {'entities': []}), ('한 달 동안 체중이 얼마나 변했나요', {'entities': []}), ('담배는 얼마나 피우시나요', {'entities': [(8, 9, '증상')]}), ('식후 소화가 잘 안 되나요', {'entities': [(3, 5, '증상')]}), ('평상시 얼마나 음주 즐기세요', {'entities': []}), ('다른 알레르기가 있으시면 미리 알려줘야 해요', {'entities': [(3, 7, '증상')]}), ('담배는 언제 처음 시작했을까요', {'entities': []}), ('부종 있으시나요', {'entities': [(0, 2, '증상')]}), ('배가 언제부터 아프셨나요', {'entities': []}), ('집에서 혈당 체크한 지는 얼마나 되었나요', {'entities': [(4, 6, '증상')]}), ('식욕 부진을 겪고 계신가요', {'entities': [(0, 2, '증상')]}), ('기침과 함께 다른 증상도 있으신가요', {'entities': [(0, 2, '증상')]}), ('흡연은 언제부터 하신거예요', {'entities': [(0, 2, '증상')]}), ('가슴이 콕콕 찌르듯이 아픈가요', {'entities': []}), ('속이 편하지 않거나 게워내시나요', {'entities': []}), ('그 외 다른 알레르기 유발 요인이 있을까요', {'entities': [(7, 11, '증상')]}), ('화장실에 오래 계시나요', {'entities': []}), ('알레르기로 인한 인후통이죠', {'entities': [(9, 12, '증상'), (0, 4, '증상')]}), ('병원이나 보건소에서 결핵 치료 받으셨나요', {'entities': [(11, 13, '증상')]}), ('하루 동안 대변을 못 보실 때가 있나요', {'entities': []}), ('오른쪽이 통증이 느껴지나요', {'entities': [(5, 7, '증상')]}), ('최근 한 달 동안 몇 킬로 증가하셨어요', {'entities': []}), ('흉통이 많이 심한가요', {'entities': [(0, 2, '증상')]}), ('설사는 언제부터 시작되었나요', {'entities': [(0, 2, '증상')]}), ('시야가 흐릿해졌던 적이 있나요', {'entities': []}), ('활동하기가 버겁나요', {'entities': []}), ('발기가 충분히 오래 지속되지 않나요', {'entities': [(0, 2, '증상')]}), ('전에도 이런 증상으로 병원에 방문한 적이 있었나요', {'entities': []}), ('암은 언제 어디서 진단받았나요', {'entities': [(0, 1, '증상')]}), ('미친 듯이 아파요', {'entities': []}), ('당뇨는 없으신가요', {'entities': [(0, 2, '증상')]}), ('당뇨 측정을 해 보셨나요', {'entities': [(0, 2, '증상')]}), ('붓기 있으신가요', {'entities': [(0, 2, '증상')]}), ('어느 부분이 가장 참기 어려워요', {'entities': []}), ('몸에 기력이 없으신가요', {'entities': [(3, 5, '증상')]}), ('최근 십이개월 안에 해외를 다녀오신 적이 있습니까', {'entities': []}), ('식사하기 싫으세요', {'entities': []}), ('최근 들어 살이 갑자기 찐다거나 하진 않나요', {'entities': []}), ('토를 한 적이 있나요', {'entities': [(0, 1, '증상')]}), ('고혈압 증상 나타난 게 언젠가요', {'entities': [(0, 3, '증상'), (1, 3, '증상')]}), ('성교 시 문제가 있나요', {'entities': []}), ('어떤 약물을 복용했을 때 알레르기가 일어나나요', {'entities': [(14, 18, '증상')]}), ('변이 묽게 나오는 정도인가요', {'entities': []}), ('통증 오는 시간이 대략 어떻게 되시나요', {'entities': [(0, 2, '증상')]}), ('생리 전후로 가스가 찼나요', {'entities': []}), ('걸렸던 병 있으면 알려주세요', {'entities': []}), ('집안에 고혈압인 분 있나요', {'entities': [(4, 7, '증상'), (5, 7, '증상')]}), ('통증이 월 단위로 있나요', {'entities': [(0, 2, '증상')]}), ('약물을 이용하여 당 관리를 하고 계신 중인가요', {'entities': []}), ('지금까지 몇 년 동안 흡연하셨나요', {'entities': [(12, 14, '증상')]}), ('피곤해서 몸이 힘든가요', {'entities': [(0, 1, '증상')]}), ('알레르기 때문에 복용에 신경 쓰는 약이 있으세요', {'entities': [(0, 4, '증상')]}), ('간염 치료 시작 날짜 아세요', {'entities': [(0, 2, '증상')]}), ('지금 아픈 곳이 있으세요', {'entities': []}), ('어디가 가장 통증이 강하죠', {'entities': [(7, 9, '증상')]}), ('아프게 된 계기가 있나요', {'entities': []}), ('결핵이 있으신지 말씀해주시겠어요', {'entities': [(0, 2, '증상')]}), ('처방받은 고혈압약 이름이 뭔가요', {'entities': [(5, 8, '증상'), (6, 8, '증상')]}), ('통증이 쭈욱 계속 이어지나요', {'entities': [(0, 2, '증상')]}), ('어디 부위가 아파서 오신 건가요', {'entities': []}), ('몇일에 한번 대변을 보시나요', {'entities': []}), ('일주일에 술을 얼마나 많이 드세요', {'entities': []}), ('통증이 오는 특정 상황이 있나요', {'entities': [(0, 2, '증상')]}), ('지속적인 발기부전이 일어나시나요', {'entities': [(5, 7, '증상')]}), ('눈에 띄는 증상이 있나요', {'entities': []}), ('통증이 어떤지 설명해 주시겠어요', {'entities': [(0, 2, '증상')]}), ('가슴 통증이 지속되나요', {'entities': [(3, 5, '증상')]}), ('어지럼증을 느낀 적은 없으신가요', {'entities': []}), ('설사가 물 같나요', {'entities': [(0, 2, '증상')]}), ('담배를 피웠던 기간이 얼마나 될까요', {'entities': [(4, 5, '증상')]}), ('알레르기 어떻게 해야 반응이 보이죠', {'entities': [(0, 4, '증상')]}), ('몸에서 알레르기 반응 일으키는 음식이 있나요', {'entities': [(4, 8, '증상')]}), ('병원 오시게 된 목적은 무엇인가요', {'entities': []}), ('편도선 많이 안 부었어요', {'entities': [(0, 3, '증상')]}), ('당뇨 치료는 언제부터 시작하였을까요', {'entities': [(0, 2, '증상')]}), ('하루에 태우는 담배가 얼마나 되나요', {'entities': []}), ('간염으로 복용 중이 약이 있으신가요', {'entities': [(0, 2, '증상')]}), ('아픈 곳 좀 말해 주세요', {'entities': []}), ('붓기가 제일 심한 때를 알려 주세요', {'entities': [(0, 2, '증상')]}), ('열감을 느끼시나요', {'entities': [(0, 1, '증상'), (0, 2, '증상')]}), ('사고로 수술 받은 적 있나요', {'entities': [(0, 2, '증상')]}), ('독감 접종은 어디서 하셨나요', {'entities': [(0, 2, '증상')]}), ('배가 많이 아프세요', {'entities': []}), ('평소에 먹는 약이 있나요', {'entities': []}), ('가족력으로 고혈압이 있나요', {'entities': [(6, 9, '증상'), (7, 9, '증상')]}), ('고혈압 위험이 있나요', {'entities': [(0, 3, '증상'), (1, 3, '증상')]}), ('통증에 특징이 있나요', {'entities': [(0, 2, '증상')]}), ('통증이 지속되세요', {'entities': [(0, 2, '증상')]}), ('간염 있을까요', {'entities': [(0, 2, '증상')]}), ('병원 방문 이유가 뭘 까요', {'entities': []}), ('약물로 고혈압 치료 중이신 건가요', {'entities': [(4, 7, '증상'), (5, 7, '증상')]}), ('하루에 소변보는 횟수가 어떻게 되나요', {'entities': []}), ('종양 있었던 가족이 있으신가요', {'entities': [(0, 2, '증상')]}), ('통증은 얼마나 심하게 느껴지세요', {'entities': [(0, 2, '증상')]}), ('혹시 혈뇨를 보신 적 있으신가요', {'entities': [(3, 5, '증상')]}), ('토는 안 하셨어요', {'entities': [(0, 1, '증상')]}), ('어느 정도로 아프세요', {'entities': []}), ('식사하시는데 불편한 점이 뭔가요', {'entities': []}), ('통증이 있다 없다 하나요', {'entities': [(0, 2, '증상')]}), ('인플루엔자 백신 접종하셨나요', {'entities': [(0, 5, '증상')]}), ('간염 때문에 병원에서 치료받고 계세요', {'entities': [(0, 2, '증상')]}), ('구토 증상은 없으셨나요', {'entities': [(0, 2, '증상'), (1, 2, '증상')]}), ('몸에 한기가 드나요', {'entities': [(3, 5, '증상')]}), ('소화불량 증상이 어떻게 되죠', {'entities': [(0, 2, '증상')]}), ('결핵으로 병원 다시는 곳 있나요', {'entities': [(0, 2, '증상')]}), ('당뇨 진단 시 수치가 얼마나 나왔었나요', {'entities': [(0, 2, '증상')]}), ('평소에 대변을 보기가 힘든가요', {'entities': []}), ('두통은 어떠신가요', {'entities': [(0, 2, '증상')]}), ('잠은 잘 자세요', {'entities': []}), ('가슴 통증이 어느 때 자주 나타나요', {'entities': [(3, 5, '증상')]}), ('변이 묽다고요', {'entities': []}), ('과거에 장기간 입원한 적이 있나요', {'entities': []}), ('최근 물 같은 변을 보시기도 했을까요', {'entities': []}), ('가래 색이 노란색인가요', {'entities': [(0, 2, '증상')]}), ('숨을 쉬기 힘든 때가 있었나요', {'entities': []}), ('구토가 난 적이 있으세요', {'entities': [(0, 2, '증상'), (1, 2, '증상')]}), ('잠들기 어려우신가요', {'entities': []}), ('현기증 정도를 말씀해 주세요', {'entities': [(0, 3, '증상')]}), ('소변을 보고 닦을 때 피가 묻어 나오나요', {'entities': [(12, 13, '증상')]}), ('당뇨병 앓고 있는 거 언제부터 알았어요', {'entities': [(0, 2, '증상')]}), ('지금도 가래가 나오나요', {'entities': [(4, 6, '증상')]}), ('현기증을 느끼신 적이 있으세요', {'entities': [(0, 3, '증상')]}), ('머리가 도는 느낌은 없나요', {'entities': []}), ('종양 관련해서 치료 받으셨던 적 있나요', {'entities': [(0, 2, '증상')]}), ('가래가 잘 형성되나요', {'entities': [(0, 2, '증상')]}), ('언제부터 간염이 있다는 걸 인지 하셨어요', {'entities': [(5, 7, '증상')]}), ('붓고 빠지는 주기가 있나요', {'entities': []}), ('당뇨가 있다는 것을 언제쯤 알게 됐나요', {'entities': [(0, 2, '증상')]}), ('흡연한 게 언제부턴지 기억하세요', {'entities': [(0, 2, '증상')]}), ('음식 먹고 속은 괜찮은가요', {'entities': []}), ('당뇨는 언제부터 알게 되셨어요', {'entities': [(0, 2, '증상')]}), ('맥박이 너무 빨리 뛰는지 궁금합니다', {'entities': []}), ('소화불량이 있지는 않나요', {'entities': [(0, 2, '증상')]}), ('먼지 알레르기 있나요', {'entities': [(3, 7, '증상')]}), ('식구들 중에 다른 유전성 질환 환자가 있나요', {'entities': [(10, 16, '증상')]}), ('아직도 가슴 쪽에서 통증이 올라오나요', {'entities': [(11, 13, '증상')]}), ('담배 몇 살 때부터 피우셨나요', {'entities': [(11, 12, '증상')]}), ('몸이 떨리고 열도 나는 것 같은가요', {'entities': [(7, 8, '증상')]}), ('술은 일주일에 어느 정도 드시나요', {'entities': []}), ('얼마나 많이 아프세요', {'entities': []}), ('배가 이유 없이 부풀어 오른 적 있나요', {'entities': []}), ('다른 질환 때문에 복용하는 약이 있나요', {'entities': []}), ('기력이 빠진 것 같은 느낌을 받으신 적 있나요', {'entities': [(0, 2, '증상')]}), ('배뇨 곤란을 느끼신 적이 있나요', {'entities': []}), ('특정한 것에 알레르기가 있나요', {'entities': [(7, 11, '증상')]}), ('당뇨 병력이 있으신가요', {'entities': [(0, 2, '증상')]}), ('자주 메슥거리세요', {'entities': []}), ('통증이 언제부터 시작했는지 말씀해주세요', {'entities': [(0, 2, '증상')]}), ('최근 체중이 많이 감소하신 편인가요', {'entities': []}), ('소변보고 나서도 또 마려운 느낌이 드나요', {'entities': []}), ('통증은 일주일에 몇 번 정도 느끼세요', {'entities': [(0, 2, '증상')]}), ('지금도 가슴에 통증이 있나요', {'entities': [(8, 10, '증상')]}), ('몸이 추웠다 더웠다 하시나요', {'entities': []}), ('종양 치료는 다 끝났나요', {'entities': [(0, 2, '증상')]}), ('호흡곤란이 왔던 상황이 어땠나요', {'entities': []}), ('하루에 피는 담배가 한 갑은 되나요', {'entities': [(4, 5, '증상')]}), ('갑자기 추위를 많이 느꼈나요', {'entities': []}), ('움직이지 못할 만큼 아프신가요', {'entities': []}), ('얼마나 아픈지 표현해 주세요', {'entities': []}), ('배뇨 활동이 원활하지 않나요', {'entities': []}), ('종양 앓았던 가족이 있으셨나요', {'entities': [(0, 2, '증상')]}), ('숨 쉬는데 문제 있으신 거 아니죠', {'entities': []}), ('배가 부른 느낌이 싫습니까', {'entities': []}), ('속이 꽉 막힌 것 같나요', {'entities': []}), ('수술력이 있나요', {'entities': []}), ('피 대변 본 적 있으세요', {'entities': [(0, 1, '증상')]}), ('전신에 무기력감이 느껴지나요', {'entities': [(5, 7, '증상'), (4, 7, '증상')]}), ('아픈 게 얼마나 아프세요', {'entities': []}), ('화장실에 오래 있어야만 소변을 보시나요', {'entities': []}), ('가족 중 고혈압 치료 중이신 분이 있을까요', {'entities': [(5, 8, '증상'), (6, 8, '증상')]}), ('열만 나는 것 같아요', {'entities': [(0, 1, '증상')]}), ('가족 중에 당뇨 있으신 분이 한 분이라도 있나요', {'entities': [(6, 8, '증상')]}), ('지금도 고통스러운 부분이 있나요', {'entities': []}), ('어지러운 적이 있나요', {'entities': []}), ('몸에서 피곤함이 느껴져요', {'entities': [(4, 7, '증상'), (4, 5, '증상')]}), ('숨이 많이 찬가요', {'entities': []}), ('혹시 얼마나 자주 아프세요', {'entities': []}), ('약물 음식 외 알레르기가 생겼던 적이 있으신가요', {'entities': [(8, 12, '증상')]}), ('다른 알레르기 있나요', {'entities': [(3, 7, '증상')]}), ('술을 얼마나 빈번하게 드시나요', {'entities': []})]\n"
          ]
        }
      ]
    },
    {
      "cell_type": "code",
      "source": [
        "# 폴더에서 텍스트 파일 읽어오기\n",
        "import os\n",
        "\n",
        "symptoms_list = [\"가래\", \"간염\", \"결핵\", \"감기\", \"고혈압\", \"구토\", \"기력\", \"기침\", \"당뇨\", \"독감\", \"두통\", \"몸살\", \"바이러스\", \"발기\", \"발열\", \"피곤함\", \"붓기\", \"열\", \"피로\", \"한기\", \"인후통\", \"복부 팽만감\", \"부종\", \"불면\", \"설사\", \"식욕\", \"소화\", \"심계항진\", \"불규칙\", \"유전병\", \"암\", \"항암\", \"유전성 질환\", \"사고\", \"알레르기\", \"피\", \"통증\", \"토\", \"인플루엔자\", \"흡연\", \"혈뇨\", \"호흡 곤란\", \"종양\", \"피토\", \"혈당\", \"혈변\", \"체중 변화\", \"편도선\", \"변비\", \"현기증\", \"혈압\", \"흉통\", \"빈혈\", \"역류\", \"담낭 절제술\", \"충격\", \"벌\", \"화상\", \"뺑소니\", \"타격\", \"무기력\", \"식은땀\", \"이물질\", \"미친개\", \"마비\", \"가려움증\", \"고열\", \"얼룩\", \"만성\", \"폐쇄성\", \"폐질환\", \"폐기종\", \"위염\", \"물 토\", \"상처\", \"락스\", \"잔뇨\", \"간수치\", \"코피\", \"정맥류\", \"입맛\", \"기흉\", \"묽은 변\", \"대상포진\", \"감전\", \"수포\", \"삐끗\", \"열감\", \"파열\", \"뱀\", \"맹장염\", \"코로나\", \"더부룩\", \"출혈\", \"황달\", \"송곳\", \"우울\", \"여드름\", \"덩어리\", \"섬광\", \"안색\", \"무호흡증\", \"수면\", \"음영\", \"감염\", \"건조\", \"미열\", \"똥침\", \"볼록\", \"트림\", \"파상풍\", \"저릿\", \"스트레스\", \"진물\", \"절뚝\", \"장애\", \"착색\", \"물집\", \"자궁근종\", \"경련\", \"요도\", \"통풍\"]\n",
        "\n",
        "# 태그 규칙 (여기서는 '증상'을 1로 설정)\n",
        "tag_rules = {symptom: 1 for symptom in symptoms_list}\n",
        "\n",
        "# 파일마다 태그 리스트와 문장을 저장할 리스트\n",
        "sentences = []\n",
        "labels = []\n",
        "\n",
        "# 폴더 내의 모든 파일을 순회\n",
        "for file_name in os.listdir(folder_path):\n",
        "    if file_name.endswith('.txt'):\n",
        "        file_path = os.path.join(folder_path, file_name)\n",
        "\n",
        "        # 각 파일을 읽어 단어 리스트 생성\n",
        "        with open(file_path, 'r', encoding='utf-8') as f:\n",
        "            lines = f.readlines()\n",
        "            for line in lines:\n",
        "              word_list = line.split()\n",
        "\n",
        "\n",
        "        # 해당 파일에 대한 태그 리스트 생성\n",
        "        tag_list = [tag_rules.get(word, 0) for word in word_list]\n",
        "\n",
        "         # 문장과 라벨을 저장\n",
        "        sentences.append(line.strip())\n",
        "        labels.append(tag_list)"
      ],
      "metadata": {
        "id": "wnI-Vz-HA3SA"
      },
      "execution_count": null,
      "outputs": []
    },
    {
      "cell_type": "code",
      "source": [
        "from transformers import Trainer, TrainingArguments\n",
        "import torch\n",
        "from torch.utils.data import Dataset, DataLoader"
      ],
      "metadata": {
        "id": "IWVheO7VPL8V"
      },
      "execution_count": null,
      "outputs": []
    },
    {
      "cell_type": "code",
      "source": [
        "from transformers import BertTokenizer\n",
        "\n",
        "# KoBERT 토크나이저 로드\n",
        "tokenizer = BertTokenizer.from_pretrained(\"monologg/kobert\")\n"
      ],
      "metadata": {
        "id": "BcLVno-LPPVW"
      },
      "execution_count": null,
      "outputs": []
    },
    {
      "cell_type": "code",
      "source": [
        "class CustomDataset(Dataset):\n",
        "    def __init__(self, sentences, labels, tokenizer, max_len):\n",
        "        self.sentences = sentences\n",
        "        self.labels = labels\n",
        "        self.tokenizer = tokenizer\n",
        "        self.max_len = max_len\n",
        "\n",
        "    def __len__(self):\n",
        "        return len(self.sentences)\n",
        "\n",
        "    def __getitem__(self, idx):\n",
        "        sentence = str(self.sentences[idx])\n",
        "        label = self.labels[idx]\n",
        "\n",
        "        encoding = self.tokenizer.encode_plus(\n",
        "            sentence,\n",
        "            add_special_tokens=True,\n",
        "            max_length=self.max_len,\n",
        "            return_token_type_ids=False,\n",
        "            padding='max_length',\n",
        "            return_attention_mask=True,\n",
        "            return_tensors='pt',\n",
        "        )\n",
        "\n",
        "        input_ids = encoding['input_ids'].flatten()\n",
        "        attn_mask = encoding['attention_mask'].flatten()\n",
        "\n",
        "        label = [0] + label +[0]\n",
        "\n",
        "        label += [0] * (self.max_len - len(label))\n",
        "\n",
        "        return {\n",
        "            'input_ids': input_ids,\n",
        "            'attention_mask': attn_mask,\n",
        "            'labels': torch.tensor(label, dtype=torch.long)[:self.max_len]\n",
        "        }"
      ],
      "metadata": {
        "id": "nfGi0yMgbTSC"
      },
      "execution_count": null,
      "outputs": []
    },
    {
      "cell_type": "code",
      "source": [
        "MAX_LEN = 20\n",
        "BATCH_SIZE = 2\n",
        "train_data = CustomDataset(sentences, labels, tokenizer, MAX_LEN)\n",
        "train_loader = DataLoader(train_data, batch_size=BATCH_SIZE)"
      ],
      "metadata": {
        "id": "F9jamSa8Ozw0"
      },
      "execution_count": null,
      "outputs": []
    },
    {
      "cell_type": "code",
      "source": [
        "from transformers import BertForTokenClassification, AdamW, BertConfig\n",
        "\n",
        "# 사전 훈련된 KoBERT 모델 로드\n",
        "model = BertForTokenClassification.from_pretrained(\"monologg/kobert\", num_labels=3)  # num_labels는 분류하려는 레이블의 수"
      ],
      "metadata": {
        "id": "PpsV672mPAAy",
        "colab": {
          "base_uri": "https://localhost:8080/"
        },
        "outputId": "47284912-515e-4c27-a6cf-31c9c01efec1"
      },
      "execution_count": null,
      "outputs": [
        {
          "output_type": "stream",
          "name": "stderr",
          "text": [
            "Some weights of BertForTokenClassification were not initialized from the model checkpoint at monologg/kobert and are newly initialized: ['classifier.bias', 'classifier.weight']\n",
            "You should probably TRAIN this model on a down-stream task to be able to use it for predictions and inference.\n"
          ]
        }
      ]
    },
    {
      "cell_type": "code",
      "source": [
        "training_args = TrainingArguments(\n",
        "    output_dir='./results',\n",
        "    num_train_epochs=3,\n",
        "    per_device_train_batch_size=BATCH_SIZE,\n",
        "    logging_dir='./logs',\n",
        ")"
      ],
      "metadata": {
        "id": "tAkGaOdEPDf8"
      },
      "execution_count": null,
      "outputs": []
    },
    {
      "cell_type": "code",
      "source": [
        "trainer = Trainer(\n",
        "    model=model,\n",
        "    args=training_args,\n",
        "    train_dataset=train_data,\n",
        ")\n",
        "\n",
        "trainer.train()"
      ],
      "metadata": {
        "colab": {
          "base_uri": "https://localhost:8080/",
          "height": 162
        },
        "id": "2_L55qJFPGQF",
        "outputId": "f0627f59-b481-4bff-d3ac-ea3f9493456f"
      },
      "execution_count": null,
      "outputs": [
        {
          "output_type": "display_data",
          "data": {
            "text/plain": [
              "<IPython.core.display.HTML object>"
            ],
            "text/html": [
              "\n",
              "    <div>\n",
              "      \n",
              "      <progress value='714' max='714' style='width:300px; height:20px; vertical-align: middle;'></progress>\n",
              "      [714/714 10:00, Epoch 3/3]\n",
              "    </div>\n",
              "    <table border=\"1\" class=\"dataframe\">\n",
              "  <thead>\n",
              " <tr style=\"text-align: left;\">\n",
              "      <th>Step</th>\n",
              "      <th>Training Loss</th>\n",
              "    </tr>\n",
              "  </thead>\n",
              "  <tbody>\n",
              "    <tr>\n",
              "      <td>500</td>\n",
              "      <td>0.064100</td>\n",
              "    </tr>\n",
              "  </tbody>\n",
              "</table><p>"
            ]
          },
          "metadata": {}
        },
        {
          "output_type": "execute_result",
          "data": {
            "text/plain": [
              "TrainOutput(global_step=714, training_loss=0.0616892192210136, metrics={'train_runtime': 606.4887, 'train_samples_per_second': 2.35, 'train_steps_per_second': 1.177, 'total_flos': 14544970497000.0, 'train_loss': 0.0616892192210136, 'epoch': 3.0})"
            ]
          },
          "metadata": {},
          "execution_count": 24
        }
      ]
    },
    {
      "cell_type": "code",
      "source": [
        "model.save_pretrained('./results')"
      ],
      "metadata": {
        "id": "nhhGGhdE2xKy"
      },
      "execution_count": null,
      "outputs": []
    },
    {
      "cell_type": "code",
      "source": [
        "model = BertForTokenClassification.from_pretrained('./results')"
      ],
      "metadata": {
        "id": "pT2tfLur2GPm"
      },
      "execution_count": null,
      "outputs": []
    },
    {
      "cell_type": "code",
      "source": [
        "tokenizer = BertTokenizer.from_pretrained('monologg/kobert')"
      ],
      "metadata": {
        "id": "_okehwJf2SO3"
      },
      "execution_count": null,
      "outputs": []
    },
    {
      "cell_type": "code",
      "source": [
        "sentence = \"여전히 가래가 나오나요?\"\n",
        "inputs = tokenizer(sentence, padding=True, truncation=True, return_tensors=\"pt\")\n",
        "\n",
        "with torch.no_grad():\n",
        "    outputs = model(**inputs).logits\n",
        "    predictions = torch.argmax(outputs, dim=2)\n",
        "\n",
        "for token, label_idx in zip(tokenizer.tokenize(sentence), predictions[0].tolist()):\n",
        "  label = \"증상\" if label_idx == 1 else \"기타\"\n",
        "  print(f\"{token} : {label}\")"
      ],
      "metadata": {
        "colab": {
          "base_uri": "https://localhost:8080/"
        },
        "id": "F6LQWPSK2VxH",
        "outputId": "da7560d8-8cad-471c-c0c3-dc7c45c350d8"
      },
      "execution_count": null,
      "outputs": [
        {
          "output_type": "stream",
          "name": "stdout",
          "text": [
            "[UNK] : 기타\n",
            "[UNK] : 기타\n",
            "[UNK] : 기타\n",
            "? : 기타\n"
          ]
        }
      ]
    }
  ]
}